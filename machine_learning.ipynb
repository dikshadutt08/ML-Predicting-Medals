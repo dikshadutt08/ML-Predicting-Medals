{
  "cells": [
    {
      "cell_type": "markdown",
      "metadata": {
        "id": "view-in-github",
        "colab_type": "text"
      },
      "source": [
        "<a href=\"https://colab.research.google.com/github/dikshadutt08/ML-Predicting-Medals/blob/main/machine_learning.ipynb\" target=\"_parent\"><img src=\"https://colab.research.google.com/assets/colab-badge.svg\" alt=\"Open In Colab\"/></a>"
      ]
    },
    {
      "cell_type": "markdown",
      "id": "9b425bcd-69db-4d91-9118-3a1aac946482",
      "metadata": {
        "id": "9b425bcd-69db-4d91-9118-3a1aac946482"
      },
      "source": [
        "# Hypothesis\n",
        "\n",
        "We can predict how many medals a country will win at the Olympics by using historical data."
      ]
    },
    {
      "cell_type": "markdown",
      "id": "8f2597e5-acc8-4a98-9239-0f9ff003ee66",
      "metadata": {
        "id": "8f2597e5-acc8-4a98-9239-0f9ff003ee66"
      },
      "source": [
        "# The Data\n",
        "\n",
        "A dataset of how many medals each country won at each Olympics.  Other data would also be nice (number of athletes, etc)."
      ]
    },
    {
      "cell_type": "code",
      "execution_count": null,
      "id": "290107f6-a9f3-4717-9194-491205b588de",
      "metadata": {
        "id": "290107f6-a9f3-4717-9194-491205b588de"
      },
      "outputs": [],
      "source": [
        "import pandas as pd"
      ]
    },
    {
      "cell_type": "code",
      "execution_count": null,
      "id": "ce9cfebb-7522-4bba-a2fd-889c29c06c47",
      "metadata": {
        "id": "ce9cfebb-7522-4bba-a2fd-889c29c06c47"
      },
      "outputs": [],
      "source": [
        "teams = pd.read_csv(\"teams.csv\")"
      ]
    },
    {
      "cell_type": "code",
      "execution_count": null,
      "id": "8db989c8-d26b-4af9-9ffd-f8e4a510c940",
      "metadata": {
        "colab": {
          "base_uri": "https://localhost:8080/",
          "height": 424
        },
        "id": "8db989c8-d26b-4af9-9ffd-f8e4a510c940",
        "outputId": "66d512f8-ee06-4d8d-c519-e0de9d04efe1"
      },
      "outputs": [
        {
          "output_type": "execute_result",
          "data": {
            "text/plain": [
              "     team      country  year  events  athletes   age  height  weight  medals  \\\n",
              "0     AFG  Afghanistan  1964       8         8  22.0   161.0    64.2       0   \n",
              "1     AFG  Afghanistan  1968       5         5  23.2   170.2    70.0       0   \n",
              "2     AFG  Afghanistan  1972       8         8  29.0   168.3    63.8       0   \n",
              "3     AFG  Afghanistan  1980      11        11  23.6   168.4    63.2       0   \n",
              "4     AFG  Afghanistan  2004       5         5  18.6   170.8    64.8       0   \n",
              "...   ...          ...   ...     ...       ...   ...     ...     ...     ...   \n",
              "2139  ZIM     Zimbabwe  2000      19        26  25.0   179.0    71.1       0   \n",
              "2140  ZIM     Zimbabwe  2004      11        14  25.1   177.8    70.5       3   \n",
              "2141  ZIM     Zimbabwe  2008      15        16  26.1   171.9    63.7       4   \n",
              "2142  ZIM     Zimbabwe  2012       8         9  27.3   174.4    65.2       0   \n",
              "2143  ZIM     Zimbabwe  2016      13        31  27.5   167.8    62.2       0   \n",
              "\n",
              "      prev_medals  prev_3_medals  \n",
              "0             0.0            0.0  \n",
              "1             0.0            0.0  \n",
              "2             0.0            0.0  \n",
              "3             0.0            0.0  \n",
              "4             0.0            0.0  \n",
              "...           ...            ...  \n",
              "2139          0.0            0.0  \n",
              "2140          0.0            0.0  \n",
              "2141          3.0            1.0  \n",
              "2142          4.0            2.3  \n",
              "2143          0.0            2.3  \n",
              "\n",
              "[2144 rows x 11 columns]"
            ],
            "text/html": [
              "\n",
              "  <div id=\"df-02f0e983-67ee-43e3-9706-102b4d2f4075\">\n",
              "    <div class=\"colab-df-container\">\n",
              "      <div>\n",
              "<style scoped>\n",
              "    .dataframe tbody tr th:only-of-type {\n",
              "        vertical-align: middle;\n",
              "    }\n",
              "\n",
              "    .dataframe tbody tr th {\n",
              "        vertical-align: top;\n",
              "    }\n",
              "\n",
              "    .dataframe thead th {\n",
              "        text-align: right;\n",
              "    }\n",
              "</style>\n",
              "<table border=\"1\" class=\"dataframe\">\n",
              "  <thead>\n",
              "    <tr style=\"text-align: right;\">\n",
              "      <th></th>\n",
              "      <th>team</th>\n",
              "      <th>country</th>\n",
              "      <th>year</th>\n",
              "      <th>events</th>\n",
              "      <th>athletes</th>\n",
              "      <th>age</th>\n",
              "      <th>height</th>\n",
              "      <th>weight</th>\n",
              "      <th>medals</th>\n",
              "      <th>prev_medals</th>\n",
              "      <th>prev_3_medals</th>\n",
              "    </tr>\n",
              "  </thead>\n",
              "  <tbody>\n",
              "    <tr>\n",
              "      <th>0</th>\n",
              "      <td>AFG</td>\n",
              "      <td>Afghanistan</td>\n",
              "      <td>1964</td>\n",
              "      <td>8</td>\n",
              "      <td>8</td>\n",
              "      <td>22.0</td>\n",
              "      <td>161.0</td>\n",
              "      <td>64.2</td>\n",
              "      <td>0</td>\n",
              "      <td>0.0</td>\n",
              "      <td>0.0</td>\n",
              "    </tr>\n",
              "    <tr>\n",
              "      <th>1</th>\n",
              "      <td>AFG</td>\n",
              "      <td>Afghanistan</td>\n",
              "      <td>1968</td>\n",
              "      <td>5</td>\n",
              "      <td>5</td>\n",
              "      <td>23.2</td>\n",
              "      <td>170.2</td>\n",
              "      <td>70.0</td>\n",
              "      <td>0</td>\n",
              "      <td>0.0</td>\n",
              "      <td>0.0</td>\n",
              "    </tr>\n",
              "    <tr>\n",
              "      <th>2</th>\n",
              "      <td>AFG</td>\n",
              "      <td>Afghanistan</td>\n",
              "      <td>1972</td>\n",
              "      <td>8</td>\n",
              "      <td>8</td>\n",
              "      <td>29.0</td>\n",
              "      <td>168.3</td>\n",
              "      <td>63.8</td>\n",
              "      <td>0</td>\n",
              "      <td>0.0</td>\n",
              "      <td>0.0</td>\n",
              "    </tr>\n",
              "    <tr>\n",
              "      <th>3</th>\n",
              "      <td>AFG</td>\n",
              "      <td>Afghanistan</td>\n",
              "      <td>1980</td>\n",
              "      <td>11</td>\n",
              "      <td>11</td>\n",
              "      <td>23.6</td>\n",
              "      <td>168.4</td>\n",
              "      <td>63.2</td>\n",
              "      <td>0</td>\n",
              "      <td>0.0</td>\n",
              "      <td>0.0</td>\n",
              "    </tr>\n",
              "    <tr>\n",
              "      <th>4</th>\n",
              "      <td>AFG</td>\n",
              "      <td>Afghanistan</td>\n",
              "      <td>2004</td>\n",
              "      <td>5</td>\n",
              "      <td>5</td>\n",
              "      <td>18.6</td>\n",
              "      <td>170.8</td>\n",
              "      <td>64.8</td>\n",
              "      <td>0</td>\n",
              "      <td>0.0</td>\n",
              "      <td>0.0</td>\n",
              "    </tr>\n",
              "    <tr>\n",
              "      <th>...</th>\n",
              "      <td>...</td>\n",
              "      <td>...</td>\n",
              "      <td>...</td>\n",
              "      <td>...</td>\n",
              "      <td>...</td>\n",
              "      <td>...</td>\n",
              "      <td>...</td>\n",
              "      <td>...</td>\n",
              "      <td>...</td>\n",
              "      <td>...</td>\n",
              "      <td>...</td>\n",
              "    </tr>\n",
              "    <tr>\n",
              "      <th>2139</th>\n",
              "      <td>ZIM</td>\n",
              "      <td>Zimbabwe</td>\n",
              "      <td>2000</td>\n",
              "      <td>19</td>\n",
              "      <td>26</td>\n",
              "      <td>25.0</td>\n",
              "      <td>179.0</td>\n",
              "      <td>71.1</td>\n",
              "      <td>0</td>\n",
              "      <td>0.0</td>\n",
              "      <td>0.0</td>\n",
              "    </tr>\n",
              "    <tr>\n",
              "      <th>2140</th>\n",
              "      <td>ZIM</td>\n",
              "      <td>Zimbabwe</td>\n",
              "      <td>2004</td>\n",
              "      <td>11</td>\n",
              "      <td>14</td>\n",
              "      <td>25.1</td>\n",
              "      <td>177.8</td>\n",
              "      <td>70.5</td>\n",
              "      <td>3</td>\n",
              "      <td>0.0</td>\n",
              "      <td>0.0</td>\n",
              "    </tr>\n",
              "    <tr>\n",
              "      <th>2141</th>\n",
              "      <td>ZIM</td>\n",
              "      <td>Zimbabwe</td>\n",
              "      <td>2008</td>\n",
              "      <td>15</td>\n",
              "      <td>16</td>\n",
              "      <td>26.1</td>\n",
              "      <td>171.9</td>\n",
              "      <td>63.7</td>\n",
              "      <td>4</td>\n",
              "      <td>3.0</td>\n",
              "      <td>1.0</td>\n",
              "    </tr>\n",
              "    <tr>\n",
              "      <th>2142</th>\n",
              "      <td>ZIM</td>\n",
              "      <td>Zimbabwe</td>\n",
              "      <td>2012</td>\n",
              "      <td>8</td>\n",
              "      <td>9</td>\n",
              "      <td>27.3</td>\n",
              "      <td>174.4</td>\n",
              "      <td>65.2</td>\n",
              "      <td>0</td>\n",
              "      <td>4.0</td>\n",
              "      <td>2.3</td>\n",
              "    </tr>\n",
              "    <tr>\n",
              "      <th>2143</th>\n",
              "      <td>ZIM</td>\n",
              "      <td>Zimbabwe</td>\n",
              "      <td>2016</td>\n",
              "      <td>13</td>\n",
              "      <td>31</td>\n",
              "      <td>27.5</td>\n",
              "      <td>167.8</td>\n",
              "      <td>62.2</td>\n",
              "      <td>0</td>\n",
              "      <td>0.0</td>\n",
              "      <td>2.3</td>\n",
              "    </tr>\n",
              "  </tbody>\n",
              "</table>\n",
              "<p>2144 rows × 11 columns</p>\n",
              "</div>\n",
              "      <button class=\"colab-df-convert\" onclick=\"convertToInteractive('df-02f0e983-67ee-43e3-9706-102b4d2f4075')\"\n",
              "              title=\"Convert this dataframe to an interactive table.\"\n",
              "              style=\"display:none;\">\n",
              "        \n",
              "  <svg xmlns=\"http://www.w3.org/2000/svg\" height=\"24px\"viewBox=\"0 0 24 24\"\n",
              "       width=\"24px\">\n",
              "    <path d=\"M0 0h24v24H0V0z\" fill=\"none\"/>\n",
              "    <path d=\"M18.56 5.44l.94 2.06.94-2.06 2.06-.94-2.06-.94-.94-2.06-.94 2.06-2.06.94zm-11 1L8.5 8.5l.94-2.06 2.06-.94-2.06-.94L8.5 2.5l-.94 2.06-2.06.94zm10 10l.94 2.06.94-2.06 2.06-.94-2.06-.94-.94-2.06-.94 2.06-2.06.94z\"/><path d=\"M17.41 7.96l-1.37-1.37c-.4-.4-.92-.59-1.43-.59-.52 0-1.04.2-1.43.59L10.3 9.45l-7.72 7.72c-.78.78-.78 2.05 0 2.83L4 21.41c.39.39.9.59 1.41.59.51 0 1.02-.2 1.41-.59l7.78-7.78 2.81-2.81c.8-.78.8-2.07 0-2.86zM5.41 20L4 18.59l7.72-7.72 1.47 1.35L5.41 20z\"/>\n",
              "  </svg>\n",
              "      </button>\n",
              "      \n",
              "  <style>\n",
              "    .colab-df-container {\n",
              "      display:flex;\n",
              "      flex-wrap:wrap;\n",
              "      gap: 12px;\n",
              "    }\n",
              "\n",
              "    .colab-df-convert {\n",
              "      background-color: #E8F0FE;\n",
              "      border: none;\n",
              "      border-radius: 50%;\n",
              "      cursor: pointer;\n",
              "      display: none;\n",
              "      fill: #1967D2;\n",
              "      height: 32px;\n",
              "      padding: 0 0 0 0;\n",
              "      width: 32px;\n",
              "    }\n",
              "\n",
              "    .colab-df-convert:hover {\n",
              "      background-color: #E2EBFA;\n",
              "      box-shadow: 0px 1px 2px rgba(60, 64, 67, 0.3), 0px 1px 3px 1px rgba(60, 64, 67, 0.15);\n",
              "      fill: #174EA6;\n",
              "    }\n",
              "\n",
              "    [theme=dark] .colab-df-convert {\n",
              "      background-color: #3B4455;\n",
              "      fill: #D2E3FC;\n",
              "    }\n",
              "\n",
              "    [theme=dark] .colab-df-convert:hover {\n",
              "      background-color: #434B5C;\n",
              "      box-shadow: 0px 1px 3px 1px rgba(0, 0, 0, 0.15);\n",
              "      filter: drop-shadow(0px 1px 2px rgba(0, 0, 0, 0.3));\n",
              "      fill: #FFFFFF;\n",
              "    }\n",
              "  </style>\n",
              "\n",
              "      <script>\n",
              "        const buttonEl =\n",
              "          document.querySelector('#df-02f0e983-67ee-43e3-9706-102b4d2f4075 button.colab-df-convert');\n",
              "        buttonEl.style.display =\n",
              "          google.colab.kernel.accessAllowed ? 'block' : 'none';\n",
              "\n",
              "        async function convertToInteractive(key) {\n",
              "          const element = document.querySelector('#df-02f0e983-67ee-43e3-9706-102b4d2f4075');\n",
              "          const dataTable =\n",
              "            await google.colab.kernel.invokeFunction('convertToInteractive',\n",
              "                                                     [key], {});\n",
              "          if (!dataTable) return;\n",
              "\n",
              "          const docLinkHtml = 'Like what you see? Visit the ' +\n",
              "            '<a target=\"_blank\" href=https://colab.research.google.com/notebooks/data_table.ipynb>data table notebook</a>'\n",
              "            + ' to learn more about interactive tables.';\n",
              "          element.innerHTML = '';\n",
              "          dataTable['output_type'] = 'display_data';\n",
              "          await google.colab.output.renderOutput(dataTable, element);\n",
              "          const docLink = document.createElement('div');\n",
              "          docLink.innerHTML = docLinkHtml;\n",
              "          element.appendChild(docLink);\n",
              "        }\n",
              "      </script>\n",
              "    </div>\n",
              "  </div>\n",
              "  "
            ]
          },
          "metadata": {},
          "execution_count": 3
        }
      ],
      "source": [
        "teams"
      ]
    },
    {
      "cell_type": "code",
      "execution_count": null,
      "id": "8b104fee-d19c-48df-b4a7-0c880bd363bf",
      "metadata": {
        "id": "8b104fee-d19c-48df-b4a7-0c880bd363bf"
      },
      "outputs": [],
      "source": [
        "teams = teams[[\"team\", \"country\", \"year\", \"athletes\", \"age\", \"prev_medals\", \"medals\"]]"
      ]
    },
    {
      "cell_type": "code",
      "execution_count": null,
      "id": "59014d95-1f81-4f35-8b5c-6edc3157a253",
      "metadata": {
        "colab": {
          "base_uri": "https://localhost:8080/"
        },
        "id": "59014d95-1f81-4f35-8b5c-6edc3157a253",
        "outputId": "6ef4dfac-dc7c-49f7-da1e-d3eed4e3d6fb"
      },
      "outputs": [
        {
          "output_type": "execute_result",
          "data": {
            "text/plain": [
              "year          -0.021603\n",
              "athletes       0.840817\n",
              "age            0.025096\n",
              "prev_medals    0.920048\n",
              "medals         1.000000\n",
              "Name: medals, dtype: float64"
            ]
          },
          "metadata": {},
          "execution_count": 5
        }
      ],
      "source": [
        "teams.corr()[\"medals\"]"
      ]
    },
    {
      "cell_type": "code",
      "execution_count": null,
      "id": "b29f8641-c24c-4086-b448-a8c765cd4845",
      "metadata": {
        "id": "b29f8641-c24c-4086-b448-a8c765cd4845"
      },
      "outputs": [],
      "source": [
        "import seaborn as sns"
      ]
    },
    {
      "cell_type": "code",
      "execution_count": null,
      "id": "ba9edb22-6014-4527-b703-e38b409b9ed2",
      "metadata": {
        "colab": {
          "base_uri": "https://localhost:8080/",
          "height": 386
        },
        "id": "ba9edb22-6014-4527-b703-e38b409b9ed2",
        "outputId": "12889fcb-7241-45f8-8f5f-1b993702475a"
      },
      "outputs": [
        {
          "output_type": "execute_result",
          "data": {
            "text/plain": [
              "<seaborn.axisgrid.FacetGrid at 0x7f01ec6028d0>"
            ]
          },
          "metadata": {},
          "execution_count": 7
        },
        {
          "output_type": "display_data",
          "data": {
            "text/plain": [
              "<Figure size 360x360 with 1 Axes>"
            ],
            "image/png": "[encoded data removed]"
          },
          "metadata": {
            "needs_background": "light"
          }
        }
      ],
      "source": [
        "sns.lmplot(x='athletes',y='medals',data=teams,fit_reg=True, ci=None) "
      ]
    },
    {
      "cell_type": "code",
      "execution_count": null,
      "id": "6e507944-8f96-43e2-a2e9-3e2e10c00b0c",
      "metadata": {
        "colab": {
          "base_uri": "https://localhost:8080/",
          "height": 386
        },
        "id": "6e507944-8f96-43e2-a2e9-3e2e10c00b0c",
        "outputId": "1c8a8e61-888c-47c2-936c-dbba85bcffee"
      },
      "outputs": [
        {
          "output_type": "execute_result",
          "data": {
            "text/plain": [
              "<seaborn.axisgrid.FacetGrid at 0x7f01e02c8c10>"
            ]
          },
          "metadata": {},
          "execution_count": 8
        },
        {
          "output_type": "display_data",
          "data": {
            "text/plain": [
              "<Figure size 360x360 with 1 Axes>"
            ],
            "image/png": "[encoded data removed]"
          },
          "metadata": {
            "needs_background": "light"
          }
        }
      ],
      "source": [
        "sns.lmplot(x='age', y='medals', data=teams, fit_reg=True, ci=None) "
      ]
    },
    {
      "cell_type": "code",
      "execution_count": null,
      "id": "833abe52-457d-40a4-932a-10a4d0b46ac9",
      "metadata": {
        "colab": {
          "base_uri": "https://localhost:8080/",
          "height": 282
        },
        "id": "833abe52-457d-40a4-932a-10a4d0b46ac9",
        "outputId": "4d1f3ce7-2390-4ab8-9aa5-408a153d9fa3"
      },
      "outputs": [
        {
          "output_type": "execute_result",
          "data": {
            "text/plain": [
              "<matplotlib.axes._subplots.AxesSubplot at 0x7f01dd51ba10>"
            ]
          },
          "metadata": {},
          "execution_count": 9
        },
        {
          "output_type": "display_data",
          "data": {
            "text/plain": [
              "<Figure size 432x288 with 1 Axes>"
            ],
            "image/png": "[encoded data removed]"
          },
          "metadata": {
            "needs_background": "light"
          }
        }
      ],
      "source": [
        "teams.plot.hist(y=\"medals\")"
      ]
    },
    {
      "cell_type": "code",
      "execution_count": null,
      "id": "50d4352f-a966-4d00-aa5f-0d5d1a670641",
      "metadata": {
        "colab": {
          "base_uri": "https://localhost:8080/",
          "height": 677
        },
        "id": "50d4352f-a966-4d00-aa5f-0d5d1a670641",
        "outputId": "cc689fc5-7a30-4472-9d03-0838452d4e7d"
      },
      "outputs": [
        {
          "output_type": "execute_result",
          "data": {
            "text/plain": [
              "    team                 country  year  athletes   age  prev_medals  medals\n",
              "19   ALB                 Albania  1992         9  25.3          NaN       0\n",
              "26   ALG                 Algeria  1964         7  26.0          NaN       0\n",
              "39   AND                 Andorra  1976         3  28.3          NaN       0\n",
              "50   ANG                  Angola  1980        17  17.4          NaN       0\n",
              "59   ANT     Antigua and Barbuda  1976        17  23.2          NaN       0\n",
              "82   ARM                 Armenia  1996        38  24.0          NaN       2\n",
              "88   ARU                   Aruba  1988        12  27.8          NaN       0\n",
              "96   ASA          American Samoa  1988         6  27.0          NaN       0\n",
              "131  AZE              Azerbaijan  1996        24  25.1          NaN       1\n",
              "150  BAN              Bangladesh  1984         2  21.0          NaN       0\n",
              "159  BAR                Barbados  1968        13  24.2          NaN       0\n",
              "171  BDI                 Burundi  1996         7  25.4          NaN       1\n",
              "191  BEN                   Benin  1972         3  23.0          NaN       0\n",
              "215  BHU                  Bhutan  1984         6  26.3          NaN       0\n",
              "224  BIH  Bosnia and Herzegovina  1992        13  26.6          NaN       0\n",
              "231  BIZ                  Belize  1968         7  29.1          NaN       0\n",
              "243  BLR                 Belarus  1996       259  23.5          NaN      23\n",
              "249  BOL                 Bolivia  1964         1  34.0          NaN       0\n",
              "262  BOT                Botswana  1980         8  26.0          NaN       0\n",
              "286  BRN                 Bahrain  1984        14  21.3          NaN       0"
            ],
            "text/html": [
              "\n",
              "  <div id=\"df-3d40aa93-62aa-4c96-9ea5-1e437f5d7d5c\">\n",
              "    <div class=\"colab-df-container\">\n",
              "      <div>\n",
              "<style scoped>\n",
              "    .dataframe tbody tr th:only-of-type {\n",
              "        vertical-align: middle;\n",
              "    }\n",
              "\n",
              "    .dataframe tbody tr th {\n",
              "        vertical-align: top;\n",
              "    }\n",
              "\n",
              "    .dataframe thead th {\n",
              "        text-align: right;\n",
              "    }\n",
              "</style>\n",
              "<table border=\"1\" class=\"dataframe\">\n",
              "  <thead>\n",
              "    <tr style=\"text-align: right;\">\n",
              "      <th></th>\n",
              "      <th>team</th>\n",
              "      <th>country</th>\n",
              "      <th>year</th>\n",
              "      <th>athletes</th>\n",
              "      <th>age</th>\n",
              "      <th>prev_medals</th>\n",
              "      <th>medals</th>\n",
              "    </tr>\n",
              "  </thead>\n",
              "  <tbody>\n",
              "    <tr>\n",
              "      <th>19</th>\n",
              "      <td>ALB</td>\n",
              "      <td>Albania</td>\n",
              "      <td>1992</td>\n",
              "      <td>9</td>\n",
              "      <td>25.3</td>\n",
              "      <td>NaN</td>\n",
              "      <td>0</td>\n",
              "    </tr>\n",
              "    <tr>\n",
              "      <th>26</th>\n",
              "      <td>ALG</td>\n",
              "      <td>Algeria</td>\n",
              "      <td>1964</td>\n",
              "      <td>7</td>\n",
              "      <td>26.0</td>\n",
              "      <td>NaN</td>\n",
              "      <td>0</td>\n",
              "    </tr>\n",
              "    <tr>\n",
              "      <th>39</th>\n",
              "      <td>AND</td>\n",
              "      <td>Andorra</td>\n",
              "      <td>1976</td>\n",
              "      <td>3</td>\n",
              "      <td>28.3</td>\n",
              "      <td>NaN</td>\n",
              "      <td>0</td>\n",
              "    </tr>\n",
              "    <tr>\n",
              "      <th>50</th>\n",
              "      <td>ANG</td>\n",
              "      <td>Angola</td>\n",
              "      <td>1980</td>\n",
              "      <td>17</td>\n",
              "      <td>17.4</td>\n",
              "      <td>NaN</td>\n",
              "      <td>0</td>\n",
              "    </tr>\n",
              "    <tr>\n",
              "      <th>59</th>\n",
              "      <td>ANT</td>\n",
              "      <td>Antigua and Barbuda</td>\n",
              "      <td>1976</td>\n",
              "      <td>17</td>\n",
              "      <td>23.2</td>\n",
              "      <td>NaN</td>\n",
              "      <td>0</td>\n",
              "    </tr>\n",
              "    <tr>\n",
              "      <th>82</th>\n",
              "      <td>ARM</td>\n",
              "      <td>Armenia</td>\n",
              "      <td>1996</td>\n",
              "      <td>38</td>\n",
              "      <td>24.0</td>\n",
              "      <td>NaN</td>\n",
              "      <td>2</td>\n",
              "    </tr>\n",
              "    <tr>\n",
              "      <th>88</th>\n",
              "      <td>ARU</td>\n",
              "      <td>Aruba</td>\n",
              "      <td>1988</td>\n",
              "      <td>12</td>\n",
              "      <td>27.8</td>\n",
              "      <td>NaN</td>\n",
              "      <td>0</td>\n",
              "    </tr>\n",
              "    <tr>\n",
              "      <th>96</th>\n",
              "      <td>ASA</td>\n",
              "      <td>American Samoa</td>\n",
              "      <td>1988</td>\n",
              "      <td>6</td>\n",
              "      <td>27.0</td>\n",
              "      <td>NaN</td>\n",
              "      <td>0</td>\n",
              "    </tr>\n",
              "    <tr>\n",
              "      <th>131</th>\n",
              "      <td>AZE</td>\n",
              "      <td>Azerbaijan</td>\n",
              "      <td>1996</td>\n",
              "      <td>24</td>\n",
              "      <td>25.1</td>\n",
              "      <td>NaN</td>\n",
              "      <td>1</td>\n",
              "    </tr>\n",
              "    <tr>\n",
              "      <th>150</th>\n",
              "      <td>BAN</td>\n",
              "      <td>Bangladesh</td>\n",
              "      <td>1984</td>\n",
              "      <td>2</td>\n",
              "      <td>21.0</td>\n",
              "      <td>NaN</td>\n",
              "      <td>0</td>\n",
              "    </tr>\n",
              "    <tr>\n",
              "      <th>159</th>\n",
              "      <td>BAR</td>\n",
              "      <td>Barbados</td>\n",
              "      <td>1968</td>\n",
              "      <td>13</td>\n",
              "      <td>24.2</td>\n",
              "      <td>NaN</td>\n",
              "      <td>0</td>\n",
              "    </tr>\n",
              "    <tr>\n",
              "      <th>171</th>\n",
              "      <td>BDI</td>\n",
              "      <td>Burundi</td>\n",
              "      <td>1996</td>\n",
              "      <td>7</td>\n",
              "      <td>25.4</td>\n",
              "      <td>NaN</td>\n",
              "      <td>1</td>\n",
              "    </tr>\n",
              "    <tr>\n",
              "      <th>191</th>\n",
              "      <td>BEN</td>\n",
              "      <td>Benin</td>\n",
              "      <td>1972</td>\n",
              "      <td>3</td>\n",
              "      <td>23.0</td>\n",
              "      <td>NaN</td>\n",
              "      <td>0</td>\n",
              "    </tr>\n",
              "    <tr>\n",
              "      <th>215</th>\n",
              "      <td>BHU</td>\n",
              "      <td>Bhutan</td>\n",
              "      <td>1984</td>\n",
              "      <td>6</td>\n",
              "      <td>26.3</td>\n",
              "      <td>NaN</td>\n",
              "      <td>0</td>\n",
              "    </tr>\n",
              "    <tr>\n",
              "      <th>224</th>\n",
              "      <td>BIH</td>\n",
              "      <td>Bosnia and Herzegovina</td>\n",
              "      <td>1992</td>\n",
              "      <td>13</td>\n",
              "      <td>26.6</td>\n",
              "      <td>NaN</td>\n",
              "      <td>0</td>\n",
              "    </tr>\n",
              "    <tr>\n",
              "      <th>231</th>\n",
              "      <td>BIZ</td>\n",
              "      <td>Belize</td>\n",
              "      <td>1968</td>\n",
              "      <td>7</td>\n",
              "      <td>29.1</td>\n",
              "      <td>NaN</td>\n",
              "      <td>0</td>\n",
              "    </tr>\n",
              "    <tr>\n",
              "      <th>243</th>\n",
              "      <td>BLR</td>\n",
              "      <td>Belarus</td>\n",
              "      <td>1996</td>\n",
              "      <td>259</td>\n",
              "      <td>23.5</td>\n",
              "      <td>NaN</td>\n",
              "      <td>23</td>\n",
              "    </tr>\n",
              "    <tr>\n",
              "      <th>249</th>\n",
              "      <td>BOL</td>\n",
              "      <td>Bolivia</td>\n",
              "      <td>1964</td>\n",
              "      <td>1</td>\n",
              "      <td>34.0</td>\n",
              "      <td>NaN</td>\n",
              "      <td>0</td>\n",
              "    </tr>\n",
              "    <tr>\n",
              "      <th>262</th>\n",
              "      <td>BOT</td>\n",
              "      <td>Botswana</td>\n",
              "      <td>1980</td>\n",
              "      <td>8</td>\n",
              "      <td>26.0</td>\n",
              "      <td>NaN</td>\n",
              "      <td>0</td>\n",
              "    </tr>\n",
              "    <tr>\n",
              "      <th>286</th>\n",
              "      <td>BRN</td>\n",
              "      <td>Bahrain</td>\n",
              "      <td>1984</td>\n",
              "      <td>14</td>\n",
              "      <td>21.3</td>\n",
              "      <td>NaN</td>\n",
              "      <td>0</td>\n",
              "    </tr>\n",
              "  </tbody>\n",
              "</table>\n",
              "</div>\n",
              "      <button class=\"colab-df-convert\" onclick=\"convertToInteractive('df-3d40aa93-62aa-4c96-9ea5-1e437f5d7d5c')\"\n",
              "              title=\"Convert this dataframe to an interactive table.\"\n",
              "              style=\"display:none;\">\n",
              "        \n",
              "  <svg xmlns=\"http://www.w3.org/2000/svg\" height=\"24px\"viewBox=\"0 0 24 24\"\n",
              "       width=\"24px\">\n",
              "    <path d=\"M0 0h24v24H0V0z\" fill=\"none\"/>\n",
              "    <path d=\"M18.56 5.44l.94 2.06.94-2.06 2.06-.94-2.06-.94-.94-2.06-.94 2.06-2.06.94zm-11 1L8.5 8.5l.94-2.06 2.06-.94-2.06-.94L8.5 2.5l-.94 2.06-2.06.94zm10 10l.94 2.06.94-2.06 2.06-.94-2.06-.94-.94-2.06-.94 2.06-2.06.94z\"/><path d=\"M17.41 7.96l-1.37-1.37c-.4-.4-.92-.59-1.43-.59-.52 0-1.04.2-1.43.59L10.3 9.45l-7.72 7.72c-.78.78-.78 2.05 0 2.83L4 21.41c.39.39.9.59 1.41.59.51 0 1.02-.2 1.41-.59l7.78-7.78 2.81-2.81c.8-.78.8-2.07 0-2.86zM5.41 20L4 18.59l7.72-7.72 1.47 1.35L5.41 20z\"/>\n",
              "  </svg>\n",
              "      </button>\n",
              "      \n",
              "  <style>\n",
              "    .colab-df-container {\n",
              "      display:flex;\n",
              "      flex-wrap:wrap;\n",
              "      gap: 12px;\n",
              "    }\n",
              "\n",
              "    .colab-df-convert {\n",
              "      background-color: #E8F0FE;\n",
              "      border: none;\n",
              "      border-radius: 50%;\n",
              "      cursor: pointer;\n",
              "      display: none;\n",
              "      fill: #1967D2;\n",
              "      height: 32px;\n",
              "      padding: 0 0 0 0;\n",
              "      width: 32px;\n",
              "    }\n",
              "\n",
              "    .colab-df-convert:hover {\n",
              "      background-color: #E2EBFA;\n",
              "      box-shadow: 0px 1px 2px rgba(60, 64, 67, 0.3), 0px 1px 3px 1px rgba(60, 64, 67, 0.15);\n",
              "      fill: #174EA6;\n",
              "    }\n",
              "\n",
              "    [theme=dark] .colab-df-convert {\n",
              "      background-color: #3B4455;\n",
              "      fill: #D2E3FC;\n",
              "    }\n",
              "\n",
              "    [theme=dark] .colab-df-convert:hover {\n",
              "      background-color: #434B5C;\n",
              "      box-shadow: 0px 1px 3px 1px rgba(0, 0, 0, 0.15);\n",
              "      filter: drop-shadow(0px 1px 2px rgba(0, 0, 0, 0.3));\n",
              "      fill: #FFFFFF;\n",
              "    }\n",
              "  </style>\n",
              "\n",
              "      <script>\n",
              "        const buttonEl =\n",
              "          document.querySelector('#df-3d40aa93-62aa-4c96-9ea5-1e437f5d7d5c button.colab-df-convert');\n",
              "        buttonEl.style.display =\n",
              "          google.colab.kernel.accessAllowed ? 'block' : 'none';\n",
              "\n",
              "        async function convertToInteractive(key) {\n",
              "          const element = document.querySelector('#df-3d40aa93-62aa-4c96-9ea5-1e437f5d7d5c');\n",
              "          const dataTable =\n",
              "            await google.colab.kernel.invokeFunction('convertToInteractive',\n",
              "                                                     [key], {});\n",
              "          if (!dataTable) return;\n",
              "\n",
              "          const docLinkHtml = 'Like what you see? Visit the ' +\n",
              "            '<a target=\"_blank\" href=https://colab.research.google.com/notebooks/data_table.ipynb>data table notebook</a>'\n",
              "            + ' to learn more about interactive tables.';\n",
              "          element.innerHTML = '';\n",
              "          dataTable['output_type'] = 'display_data';\n",
              "          await google.colab.output.renderOutput(dataTable, element);\n",
              "          const docLink = document.createElement('div');\n",
              "          docLink.innerHTML = docLinkHtml;\n",
              "          element.appendChild(docLink);\n",
              "        }\n",
              "      </script>\n",
              "    </div>\n",
              "  </div>\n",
              "  "
            ]
          },
          "metadata": {},
          "execution_count": 10
        }
      ],
      "source": [
        "teams[teams.isnull().any(axis=1)].head(20)"
      ]
    },
    {
      "cell_type": "code",
      "execution_count": null,
      "id": "5adb8135-76aa-4618-8ba4-15b13fa7041b",
      "metadata": {
        "id": "5adb8135-76aa-4618-8ba4-15b13fa7041b"
      },
      "outputs": [],
      "source": [
        "teams = teams.dropna()"
      ]
    },
    {
      "cell_type": "code",
      "execution_count": null,
      "id": "3178070c-31e4-4c5f-80ce-5bd2797ef9d9",
      "metadata": {
        "colab": {
          "base_uri": "https://localhost:8080/"
        },
        "id": "3178070c-31e4-4c5f-80ce-5bd2797ef9d9",
        "outputId": "3d13fe85-ca4c-4dba-c232-2092bf0e956e"
      },
      "outputs": [
        {
          "output_type": "execute_result",
          "data": {
            "text/plain": [
              "(2014, 7)"
            ]
          },
          "metadata": {},
          "execution_count": 12
        }
      ],
      "source": [
        "teams.shape"
      ]
    },
    {
      "cell_type": "code",
      "execution_count": null,
      "id": "a4d79a58-fc01-4457-9f1a-490385f71760",
      "metadata": {
        "id": "a4d79a58-fc01-4457-9f1a-490385f71760"
      },
      "outputs": [],
      "source": [
        "train = teams[teams[\"year\"] < 2012].copy()\n",
        "test = teams[teams[\"year\"] >= 2012].copy()"
      ]
    },
    {
      "cell_type": "code",
      "execution_count": null,
      "id": "0b8274bb-b2e3-4e34-943f-480f988e8b0b",
      "metadata": {
        "colab": {
          "base_uri": "https://localhost:8080/"
        },
        "id": "0b8274bb-b2e3-4e34-943f-480f988e8b0b",
        "outputId": "c0b499fa-8c70-4d0b-f181-d105973ce042"
      },
      "outputs": [
        {
          "output_type": "execute_result",
          "data": {
            "text/plain": [
              "(1609, 7)"
            ]
          },
          "metadata": {},
          "execution_count": 14
        }
      ],
      "source": [
        "# About 80% of the data\n",
        "train.shape"
      ]
    },
    {
      "cell_type": "code",
      "execution_count": null,
      "id": "198d0f59-e523-4282-8d17-eabe55086b62",
      "metadata": {
        "colab": {
          "base_uri": "https://localhost:8080/"
        },
        "id": "198d0f59-e523-4282-8d17-eabe55086b62",
        "outputId": "c638ea0b-f304-4864-eb8e-192c96d35b5e"
      },
      "outputs": [
        {
          "output_type": "execute_result",
          "data": {
            "text/plain": [
              "(405, 7)"
            ]
          },
          "metadata": {},
          "execution_count": 15
        }
      ],
      "source": [
        "# About 20% of the data\n",
        "test.shape"
      ]
    },
    {
      "cell_type": "markdown",
      "id": "10a8eda8-929f-4883-90bb-90dbeabcbb74",
      "metadata": {
        "id": "10a8eda8-929f-4883-90bb-90dbeabcbb74"
      },
      "source": [
        "# Accuracy Metric\n",
        "\n",
        "We'll use mean squared error.  This is a good default regression accuracy metric.  It's the average of squared differences between the actual results and your predictions."
      ]
    },
    {
      "cell_type": "code",
      "execution_count": null,
      "id": "b0ffd6d9-00a2-41f8-82c8-f4514a2e6dc3",
      "metadata": {
        "id": "b0ffd6d9-00a2-41f8-82c8-f4514a2e6dc3"
      },
      "outputs": [],
      "source": [
        "from sklearn.linear_model import LinearRegression\n",
        "\n",
        "reg = LinearRegression()"
      ]
    },
    {
      "cell_type": "code",
      "execution_count": null,
      "id": "ed7e7adb-61a8-4a62-b6f2-bf0eeef8d181",
      "metadata": {
        "id": "ed7e7adb-61a8-4a62-b6f2-bf0eeef8d181"
      },
      "outputs": [],
      "source": [
        "predictors = [\"athletes\", \"prev_medals\"]"
      ]
    },
    {
      "cell_type": "code",
      "execution_count": null,
      "id": "844a9a88-52ee-4b14-a5d5-b164347abac7",
      "metadata": {
        "colab": {
          "base_uri": "https://localhost:8080/"
        },
        "id": "844a9a88-52ee-4b14-a5d5-b164347abac7",
        "outputId": "ba26ce53-2700-49e3-c06f-7c46e6023764"
      },
      "outputs": [
        {
          "output_type": "execute_result",
          "data": {
            "text/plain": [
              "LinearRegression()"
            ]
          },
          "metadata": {},
          "execution_count": 18
        }
      ],
      "source": [
        "reg.fit(train[predictors], train[\"medals\"])"
      ]
    },
    {
      "cell_type": "code",
      "execution_count": null,
      "id": "782aebb0-e8bb-45b6-85b4-0f3674591482",
      "metadata": {
        "id": "782aebb0-e8bb-45b6-85b4-0f3674591482"
      },
      "outputs": [],
      "source": [
        "predictions = reg.predict(test[predictors])"
      ]
    },
    {
      "cell_type": "code",
      "execution_count": null,
      "id": "8a9b364a-4c76-4c23-a917-caf16af45fae",
      "metadata": {
        "colab": {
          "base_uri": "https://localhost:8080/"
        },
        "id": "8a9b364a-4c76-4c23-a917-caf16af45fae",
        "outputId": "a2a47a95-d86c-4e8b-e278-75383f577ce9"
      },
      "outputs": [
        {
          "output_type": "execute_result",
          "data": {
            "text/plain": [
              "(405,)"
            ]
          },
          "metadata": {},
          "execution_count": 20
        }
      ],
      "source": [
        "predictions.shape"
      ]
    },
    {
      "cell_type": "code",
      "execution_count": null,
      "id": "94a69b7f-cb8b-418a-a9d1-6239284d2500",
      "metadata": {
        "id": "94a69b7f-cb8b-418a-a9d1-6239284d2500"
      },
      "outputs": [],
      "source": [
        "test[\"predictions\"] = predictions"
      ]
    },
    {
      "cell_type": "code",
      "execution_count": null,
      "id": "9e0d1a19-0e7b-4b24-8492-f6e0f353c8de",
      "metadata": {
        "id": "9e0d1a19-0e7b-4b24-8492-f6e0f353c8de"
      },
      "outputs": [],
      "source": [
        "test.loc[test[\"predictions\"] < 0, \"predictions\"] = 0"
      ]
    },
    {
      "cell_type": "code",
      "execution_count": null,
      "id": "156ea947-55d0-4ea0-871c-199304041c40",
      "metadata": {
        "id": "156ea947-55d0-4ea0-871c-199304041c40"
      },
      "outputs": [],
      "source": [
        "test[\"predictions\"] = test[\"predictions\"].round()"
      ]
    },
    {
      "cell_type": "code",
      "execution_count": null,
      "id": "26786d59-d0a0-4f0c-85d9-01ea0d01d35d",
      "metadata": {
        "colab": {
          "base_uri": "https://localhost:8080/"
        },
        "id": "26786d59-d0a0-4f0c-85d9-01ea0d01d35d",
        "outputId": "a6432b80-e6fd-4940-80fd-651df5338a8f"
      },
      "outputs": [
        {
          "output_type": "execute_result",
          "data": {
            "text/plain": [
              "3.2987654320987656"
            ]
          },
          "metadata": {},
          "execution_count": 24
        }
      ],
      "source": [
        "from sklearn.metrics import mean_absolute_error\n",
        "\n",
        "error = mean_absolute_error(test[\"medals\"], test[\"predictions\"])\n",
        "error"
      ]
    },
    {
      "cell_type": "code",
      "execution_count": null,
      "id": "15931f87-f323-4ee2-b05b-086c17788a98",
      "metadata": {
        "colab": {
          "base_uri": "https://localhost:8080/"
        },
        "id": "15931f87-f323-4ee2-b05b-086c17788a98",
        "outputId": "a0d58561-4a25-46f6-d3f3-24bb5348fe7b"
      },
      "outputs": [
        {
          "output_type": "execute_result",
          "data": {
            "text/plain": [
              "count    2014.000000\n",
              "mean       10.990070\n",
              "std        33.627528\n",
              "min         0.000000\n",
              "25%         0.000000\n",
              "50%         0.000000\n",
              "75%         5.000000\n",
              "max       442.000000\n",
              "Name: medals, dtype: float64"
            ]
          },
          "metadata": {},
          "execution_count": 25
        }
      ],
      "source": [
        "teams.describe()[\"medals\"]"
      ]
    },
    {
      "cell_type": "code",
      "execution_count": null,
      "id": "9518f658-0d74-4665-9db8-170ec2fafe4f",
      "metadata": {
        "id": "9518f658-0d74-4665-9db8-170ec2fafe4f"
      },
      "outputs": [],
      "source": [
        "test[\"predictions\"] = predictions"
      ]
    },
    {
      "cell_type": "code",
      "execution_count": null,
      "id": "0e39755f-cb9d-4523-b2fd-8847ee3d0437",
      "metadata": {
        "colab": {
          "base_uri": "https://localhost:8080/",
          "height": 112
        },
        "id": "0e39755f-cb9d-4523-b2fd-8847ee3d0437",
        "outputId": "d12ab8e5-bae0-4745-88d7-6d79c584b8f6"
      },
      "outputs": [
        {
          "output_type": "execute_result",
          "data": {
            "text/plain": [
              "     team        country  year  athletes   age  prev_medals  medals  \\\n",
              "2053  USA  United States  2012       689  26.7        317.0     248   \n",
              "2054  USA  United States  2016       719  26.4        248.0     264   \n",
              "\n",
              "      predictions  \n",
              "2053   285.210121  \n",
              "2054   235.568076  "
            ],
            "text/html": [
              "\n",
              "  <div id=\"df-9de979cd-ef55-4830-a6ce-19ebf80ef945\">\n",
              "    <div class=\"colab-df-container\">\n",
              "      <div>\n",
              "<style scoped>\n",
              "    .dataframe tbody tr th:only-of-type {\n",
              "        vertical-align: middle;\n",
              "    }\n",
              "\n",
              "    .dataframe tbody tr th {\n",
              "        vertical-align: top;\n",
              "    }\n",
              "\n",
              "    .dataframe thead th {\n",
              "        text-align: right;\n",
              "    }\n",
              "</style>\n",
              "<table border=\"1\" class=\"dataframe\">\n",
              "  <thead>\n",
              "    <tr style=\"text-align: right;\">\n",
              "      <th></th>\n",
              "      <th>team</th>\n",
              "      <th>country</th>\n",
              "      <th>year</th>\n",
              "      <th>athletes</th>\n",
              "      <th>age</th>\n",
              "      <th>prev_medals</th>\n",
              "      <th>medals</th>\n",
              "      <th>predictions</th>\n",
              "    </tr>\n",
              "  </thead>\n",
              "  <tbody>\n",
              "    <tr>\n",
              "      <th>2053</th>\n",
              "      <td>USA</td>\n",
              "      <td>United States</td>\n",
              "      <td>2012</td>\n",
              "      <td>689</td>\n",
              "      <td>26.7</td>\n",
              "      <td>317.0</td>\n",
              "      <td>248</td>\n",
              "      <td>285.210121</td>\n",
              "    </tr>\n",
              "    <tr>\n",
              "      <th>2054</th>\n",
              "      <td>USA</td>\n",
              "      <td>United States</td>\n",
              "      <td>2016</td>\n",
              "      <td>719</td>\n",
              "      <td>26.4</td>\n",
              "      <td>248.0</td>\n",
              "      <td>264</td>\n",
              "      <td>235.568076</td>\n",
              "    </tr>\n",
              "  </tbody>\n",
              "</table>\n",
              "</div>\n",
              "      <button class=\"colab-df-convert\" onclick=\"convertToInteractive('df-9de979cd-ef55-4830-a6ce-19ebf80ef945')\"\n",
              "              title=\"Convert this dataframe to an interactive table.\"\n",
              "              style=\"display:none;\">\n",
              "        \n",
              "  <svg xmlns=\"http://www.w3.org/2000/svg\" height=\"24px\"viewBox=\"0 0 24 24\"\n",
              "       width=\"24px\">\n",
              "    <path d=\"M0 0h24v24H0V0z\" fill=\"none\"/>\n",
              "    <path d=\"M18.56 5.44l.94 2.06.94-2.06 2.06-.94-2.06-.94-.94-2.06-.94 2.06-2.06.94zm-11 1L8.5 8.5l.94-2.06 2.06-.94-2.06-.94L8.5 2.5l-.94 2.06-2.06.94zm10 10l.94 2.06.94-2.06 2.06-.94-2.06-.94-.94-2.06-.94 2.06-2.06.94z\"/><path d=\"M17.41 7.96l-1.37-1.37c-.4-.4-.92-.59-1.43-.59-.52 0-1.04.2-1.43.59L10.3 9.45l-7.72 7.72c-.78.78-.78 2.05 0 2.83L4 21.41c.39.39.9.59 1.41.59.51 0 1.02-.2 1.41-.59l7.78-7.78 2.81-2.81c.8-.78.8-2.07 0-2.86zM5.41 20L4 18.59l7.72-7.72 1.47 1.35L5.41 20z\"/>\n",
              "  </svg>\n",
              "      </button>\n",
              "      \n",
              "  <style>\n",
              "    .colab-df-container {\n",
              "      display:flex;\n",
              "      flex-wrap:wrap;\n",
              "      gap: 12px;\n",
              "    }\n",
              "\n",
              "    .colab-df-convert {\n",
              "      background-color: #E8F0FE;\n",
              "      border: none;\n",
              "      border-radius: 50%;\n",
              "      cursor: pointer;\n",
              "      display: none;\n",
              "      fill: #1967D2;\n",
              "      height: 32px;\n",
              "      padding: 0 0 0 0;\n",
              "      width: 32px;\n",
              "    }\n",
              "\n",
              "    .colab-df-convert:hover {\n",
              "      background-color: #E2EBFA;\n",
              "      box-shadow: 0px 1px 2px rgba(60, 64, 67, 0.3), 0px 1px 3px 1px rgba(60, 64, 67, 0.15);\n",
              "      fill: #174EA6;\n",
              "    }\n",
              "\n",
              "    [theme=dark] .colab-df-convert {\n",
              "      background-color: #3B4455;\n",
              "      fill: #D2E3FC;\n",
              "    }\n",
              "\n",
              "    [theme=dark] .colab-df-convert:hover {\n",
              "      background-color: #434B5C;\n",
              "      box-shadow: 0px 1px 3px 1px rgba(0, 0, 0, 0.15);\n",
              "      filter: drop-shadow(0px 1px 2px rgba(0, 0, 0, 0.3));\n",
              "      fill: #FFFFFF;\n",
              "    }\n",
              "  </style>\n",
              "\n",
              "      <script>\n",
              "        const buttonEl =\n",
              "          document.querySelector('#df-9de979cd-ef55-4830-a6ce-19ebf80ef945 button.colab-df-convert');\n",
              "        buttonEl.style.display =\n",
              "          google.colab.kernel.accessAllowed ? 'block' : 'none';\n",
              "\n",
              "        async function convertToInteractive(key) {\n",
              "          const element = document.querySelector('#df-9de979cd-ef55-4830-a6ce-19ebf80ef945');\n",
              "          const dataTable =\n",
              "            await google.colab.kernel.invokeFunction('convertToInteractive',\n",
              "                                                     [key], {});\n",
              "          if (!dataTable) return;\n",
              "\n",
              "          const docLinkHtml = 'Like what you see? Visit the ' +\n",
              "            '<a target=\"_blank\" href=https://colab.research.google.com/notebooks/data_table.ipynb>data table notebook</a>'\n",
              "            + ' to learn more about interactive tables.';\n",
              "          element.innerHTML = '';\n",
              "          dataTable['output_type'] = 'display_data';\n",
              "          await google.colab.output.renderOutput(dataTable, element);\n",
              "          const docLink = document.createElement('div');\n",
              "          docLink.innerHTML = docLinkHtml;\n",
              "          element.appendChild(docLink);\n",
              "        }\n",
              "      </script>\n",
              "    </div>\n",
              "  </div>\n",
              "  "
            ]
          },
          "metadata": {},
          "execution_count": 27
        }
      ],
      "source": [
        "test[test[\"team\"] == \"USA\"]"
      ]
    },
    {
      "cell_type": "code",
      "execution_count": null,
      "id": "3b71b391-bbfb-451d-aabb-e597bd9e97ca",
      "metadata": {
        "colab": {
          "base_uri": "https://localhost:8080/",
          "height": 112
        },
        "id": "3b71b391-bbfb-451d-aabb-e597bd9e97ca",
        "outputId": "2fc4be6a-dc8f-40c6-fcc1-f3710129145b"
      },
      "outputs": [
        {
          "output_type": "execute_result",
          "data": {
            "text/plain": [
              "    team country  year  athletes   age  prev_medals  medals  predictions\n",
              "907  IND   India  2012        95  26.0          3.0       6     6.921667\n",
              "908  IND   India  2016       130  26.1          6.0       2    11.683176"
            ],
            "text/html": [
              "\n",
              "  <div id=\"df-7e48e921-243a-4188-b2d1-cccbf2e12fcb\">\n",
              "    <div class=\"colab-df-container\">\n",
              "      <div>\n",
              "<style scoped>\n",
              "    .dataframe tbody tr th:only-of-type {\n",
              "        vertical-align: middle;\n",
              "    }\n",
              "\n",
              "    .dataframe tbody tr th {\n",
              "        vertical-align: top;\n",
              "    }\n",
              "\n",
              "    .dataframe thead th {\n",
              "        text-align: right;\n",
              "    }\n",
              "</style>\n",
              "<table border=\"1\" class=\"dataframe\">\n",
              "  <thead>\n",
              "    <tr style=\"text-align: right;\">\n",
              "      <th></th>\n",
              "      <th>team</th>\n",
              "      <th>country</th>\n",
              "      <th>year</th>\n",
              "      <th>athletes</th>\n",
              "      <th>age</th>\n",
              "      <th>prev_medals</th>\n",
              "      <th>medals</th>\n",
              "      <th>predictions</th>\n",
              "    </tr>\n",
              "  </thead>\n",
              "  <tbody>\n",
              "    <tr>\n",
              "      <th>907</th>\n",
              "      <td>IND</td>\n",
              "      <td>India</td>\n",
              "      <td>2012</td>\n",
              "      <td>95</td>\n",
              "      <td>26.0</td>\n",
              "      <td>3.0</td>\n",
              "      <td>6</td>\n",
              "      <td>6.921667</td>\n",
              "    </tr>\n",
              "    <tr>\n",
              "      <th>908</th>\n",
              "      <td>IND</td>\n",
              "      <td>India</td>\n",
              "      <td>2016</td>\n",
              "      <td>130</td>\n",
              "      <td>26.1</td>\n",
              "      <td>6.0</td>\n",
              "      <td>2</td>\n",
              "      <td>11.683176</td>\n",
              "    </tr>\n",
              "  </tbody>\n",
              "</table>\n",
              "</div>\n",
              "      <button class=\"colab-df-convert\" onclick=\"convertToInteractive('df-7e48e921-243a-4188-b2d1-cccbf2e12fcb')\"\n",
              "              title=\"Convert this dataframe to an interactive table.\"\n",
              "              style=\"display:none;\">\n",
              "        \n",
              "  <svg xmlns=\"http://www.w3.org/2000/svg\" height=\"24px\"viewBox=\"0 0 24 24\"\n",
              "       width=\"24px\">\n",
              "    <path d=\"M0 0h24v24H0V0z\" fill=\"none\"/>\n",
              "    <path d=\"M18.56 5.44l.94 2.06.94-2.06 2.06-.94-2.06-.94-.94-2.06-.94 2.06-2.06.94zm-11 1L8.5 8.5l.94-2.06 2.06-.94-2.06-.94L8.5 2.5l-.94 2.06-2.06.94zm10 10l.94 2.06.94-2.06 2.06-.94-2.06-.94-.94-2.06-.94 2.06-2.06.94z\"/><path d=\"M17.41 7.96l-1.37-1.37c-.4-.4-.92-.59-1.43-.59-.52 0-1.04.2-1.43.59L10.3 9.45l-7.72 7.72c-.78.78-.78 2.05 0 2.83L4 21.41c.39.39.9.59 1.41.59.51 0 1.02-.2 1.41-.59l7.78-7.78 2.81-2.81c.8-.78.8-2.07 0-2.86zM5.41 20L4 18.59l7.72-7.72 1.47 1.35L5.41 20z\"/>\n",
              "  </svg>\n",
              "      </button>\n",
              "      \n",
              "  <style>\n",
              "    .colab-df-container {\n",
              "      display:flex;\n",
              "      flex-wrap:wrap;\n",
              "      gap: 12px;\n",
              "    }\n",
              "\n",
              "    .colab-df-convert {\n",
              "      background-color: #E8F0FE;\n",
              "      border: none;\n",
              "      border-radius: 50%;\n",
              "      cursor: pointer;\n",
              "      display: none;\n",
              "      fill: #1967D2;\n",
              "      height: 32px;\n",
              "      padding: 0 0 0 0;\n",
              "      width: 32px;\n",
              "    }\n",
              "\n",
              "    .colab-df-convert:hover {\n",
              "      background-color: #E2EBFA;\n",
              "      box-shadow: 0px 1px 2px rgba(60, 64, 67, 0.3), 0px 1px 3px 1px rgba(60, 64, 67, 0.15);\n",
              "      fill: #174EA6;\n",
              "    }\n",
              "\n",
              "    [theme=dark] .colab-df-convert {\n",
              "      background-color: #3B4455;\n",
              "      fill: #D2E3FC;\n",
              "    }\n",
              "\n",
              "    [theme=dark] .colab-df-convert:hover {\n",
              "      background-color: #434B5C;\n",
              "      box-shadow: 0px 1px 3px 1px rgba(0, 0, 0, 0.15);\n",
              "      filter: drop-shadow(0px 1px 2px rgba(0, 0, 0, 0.3));\n",
              "      fill: #FFFFFF;\n",
              "    }\n",
              "  </style>\n",
              "\n",
              "      <script>\n",
              "        const buttonEl =\n",
              "          document.querySelector('#df-7e48e921-243a-4188-b2d1-cccbf2e12fcb button.colab-df-convert');\n",
              "        buttonEl.style.display =\n",
              "          google.colab.kernel.accessAllowed ? 'block' : 'none';\n",
              "\n",
              "        async function convertToInteractive(key) {\n",
              "          const element = document.querySelector('#df-7e48e921-243a-4188-b2d1-cccbf2e12fcb');\n",
              "          const dataTable =\n",
              "            await google.colab.kernel.invokeFunction('convertToInteractive',\n",
              "                                                     [key], {});\n",
              "          if (!dataTable) return;\n",
              "\n",
              "          const docLinkHtml = 'Like what you see? Visit the ' +\n",
              "            '<a target=\"_blank\" href=https://colab.research.google.com/notebooks/data_table.ipynb>data table notebook</a>'\n",
              "            + ' to learn more about interactive tables.';\n",
              "          element.innerHTML = '';\n",
              "          dataTable['output_type'] = 'display_data';\n",
              "          await google.colab.output.renderOutput(dataTable, element);\n",
              "          const docLink = document.createElement('div');\n",
              "          docLink.innerHTML = docLinkHtml;\n",
              "          element.appendChild(docLink);\n",
              "        }\n",
              "      </script>\n",
              "    </div>\n",
              "  </div>\n",
              "  "
            ]
          },
          "metadata": {},
          "execution_count": 28
        }
      ],
      "source": [
        "test[test[\"team\"] == \"IND\"]"
      ]
    },
    {
      "cell_type": "code",
      "execution_count": null,
      "id": "488d34f2-7ad3-42b4-b0f9-e8ad4c33e2a2",
      "metadata": {
        "id": "488d34f2-7ad3-42b4-b0f9-e8ad4c33e2a2"
      },
      "outputs": [],
      "source": [
        "errors = (test[\"medals\"] - predictions).abs()"
      ]
    },
    {
      "cell_type": "code",
      "execution_count": null,
      "id": "72cb467e-fe6d-492a-8648-1f7cbae2e09b",
      "metadata": {
        "id": "72cb467e-fe6d-492a-8648-1f7cbae2e09b"
      },
      "outputs": [],
      "source": [
        "error_by_team = errors.groupby(test[\"team\"]).mean()\n",
        "medals_by_team = test[\"medals\"].groupby(test[\"team\"]).mean()\n",
        "error_ratio =  error_by_team / medals_by_team "
      ]
    },
    {
      "cell_type": "code",
      "execution_count": null,
      "id": "85793358-13f2-408a-a761-9d04703a92ff",
      "metadata": {
        "id": "85793358-13f2-408a-a761-9d04703a92ff"
      },
      "outputs": [],
      "source": [
        "import numpy as np\n",
        "error_ratio = error_ratio[np.isfinite(error_ratio)]"
      ]
    },
    {
      "cell_type": "code",
      "execution_count": null,
      "id": "ebdbcb38-718a-4416-a6bc-85add6365a2f",
      "metadata": {
        "colab": {
          "base_uri": "https://localhost:8080/",
          "height": 282
        },
        "id": "ebdbcb38-718a-4416-a6bc-85add6365a2f",
        "outputId": "40e18c48-afe3-4927-abe8-fa32c1ed9e57"
      },
      "outputs": [
        {
          "output_type": "execute_result",
          "data": {
            "text/plain": [
              "<matplotlib.axes._subplots.AxesSubplot at 0x7f01dc752290>"
            ]
          },
          "metadata": {},
          "execution_count": 32
        },
        {
          "output_type": "display_data",
          "data": {
            "text/plain": [
              "<Figure size 432x288 with 1 Axes>"
            ],
            "image/png": "[encoded data removed]"
          },
          "metadata": {
            "needs_background": "light"
          }
        }
      ],
      "source": [
        "error_ratio.plot.hist()"
      ]
    },
    {
      "cell_type": "code",
      "execution_count": null,
      "id": "50a5801a-0017-4c11-9412-da1d81994657",
      "metadata": {
        "colab": {
          "base_uri": "https://localhost:8080/"
        },
        "id": "50a5801a-0017-4c11-9412-da1d81994657",
        "outputId": "9f207c55-8ae5-4fcc-d6c5-31a2cec5d704"
      },
      "outputs": [
        {
          "output_type": "execute_result",
          "data": {
            "text/plain": [
              "team\n",
              "FRA    0.024289\n",
              "CAN    0.050844\n",
              "NZL    0.071349\n",
              "RUS    0.081841\n",
              "ITA    0.119537\n",
              "         ...   \n",
              "PHI    3.563248\n",
              "JOR    4.065175\n",
              "BDI    4.136878\n",
              "AUT    4.257950\n",
              "NIG    4.423693\n",
              "Name: medals, Length: 97, dtype: float64"
            ]
          },
          "metadata": {},
          "execution_count": 33
        }
      ],
      "source": [
        "error_ratio.sort_values()"
      ]
    },
    {
      "cell_type": "markdown",
      "id": "7c9c0e53-bf38-414e-961e-bd9f14930b6f",
      "metadata": {
        "id": "7c9c0e53-bf38-414e-961e-bd9f14930b6f"
      },
      "source": [
        "This model works well for countries which have a high medal count, and compete in a stable number of events annually.  For countries that get fewer medals, you'd want to build this model in a different way."
      ]
    }
  ],
  "metadata": {
    "kernelspec": {
      "display_name": "Python 3 (ipykernel)",
      "language": "python",
      "name": "python3"
    },
    "language_info": {
      "codemirror_mode": {
        "name": "ipython",
        "version": 3
      },
      "file_extension": ".py",
      "mimetype": "text/x-python",
      "name": "python",
      "nbconvert_exporter": "python",
      "pygments_lexer": "ipython3",
      "version": "3.9.13"
    },
    "colab": {
      "provenance": [],
      "include_colab_link": true
    }
  },
  "nbformat": 4,
  "nbformat_minor": 5
}